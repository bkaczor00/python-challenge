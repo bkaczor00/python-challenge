{
 "cells": [
  {
   "cell_type": "code",
   "execution_count": 2,
   "metadata": {},
   "outputs": [
    {
     "name": "stdout",
     "output_type": "stream",
     "text": [
      "Financial Analysis\n",
      "------------------\n",
      "total months:  86\n",
      "total profit: $ 38382578\n",
      "average change: $ -2315.1176470588234\n",
      "greatest increase in profit:  Jan-2012 ($ 1926159.0 )\n",
      "greatest decrease in profit:  Aug-2013 ($ -2196167.0 )\n"
     ]
    }
   ],
   "source": [
    "import csv\n",
    "import os\n",
    "                              \n",
    "with open ('budget_data.csv',\"r\") as file:\n",
    "    csv_reader = csv.reader(file, delimiter=\",\")\n",
    "                              \n",
    "    header = next(csv_reader)\n",
    "    \n",
    "    print(\"Financial Analysis\")\n",
    "    print(\"------------------\")\n",
    "    \n",
    "    row_count = sum(1 for row in file) \n",
    "    print (\"total months: \", row_count)\n",
    "    \n",
    "    \n",
    "with open ('budget_data.csv',\"r\") as file:\n",
    "    csv_reader = csv.reader(file, delimiter=\",\")\n",
    "\n",
    "    header = next(csv_reader)\n",
    "    \n",
    "    total_profit=0\n",
    "    for row in csv_reader:  \n",
    "        total_profit += int(row[1])\n",
    "                              \n",
    "    print(\"total profit: $\",total_profit)\n",
    "    \n",
    "\n",
    "with open ('budget_data.csv',\"r\") as file:\n",
    "    csv_reader = csv.reader(file, delimiter=\",\")\n",
    "    \n",
    "    header = next(csv_reader)\n",
    "    profit = []\n",
    "    profit_change = []\n",
    "    date =[]\n",
    "    \n",
    "    for row in csv_reader:\n",
    "        profit.append(float(row[1]))\n",
    "        date.append(row[0])\n",
    "        \n",
    "    for row in range(1,len(profit)):\n",
    "        profit_change.append(profit[row] - profit[row-1])   \n",
    "        avg_profit_change = sum(profit_change)/len(profit_change)\n",
    "\n",
    "        max_profit_change = max(profit_change)\n",
    "\n",
    "        min_profit_change = min(profit_change)\n",
    "\n",
    "    max_profit_change_date = str(date[profit_change.index(max(profit_change))])\n",
    "    min_profit_change_date = str(date[profit_change.index(min(profit_change))])\n",
    "\n",
    "\n",
    "    print(\"average change: $\", float(avg_profit_change))\n",
    "    print(\"greatest increase in profit: \", max_profit_change_date,\"($\", max_profit_change,\")\")\n",
    "    print(\"greatest decrease in profit: \", min_profit_change_date,\"($\", min_profit_change,\")\")\n",
    "\n",
    "financial_analysis = os.path.join(\"..\", \"anaylsis\", \"financialanalysis.txt\")  \n",
    "with open(\"fiancial_analysis\", 'w') as financial_data:\n",
    "    financial_data.writelines(\"       Financial Analysis    \\n\")\n",
    "    financial_data.writelines(\"---------------------------\\n\")\n",
    "    financial_data.writelines(f\"total months: {row_count}\\n\")\n",
    "    financial_data.writelines(f\"total profit: ${total_profit}\\n\")\n",
    "    financial_data.writelines(f\"average change: ${float(avg_profit_change)}\\n\")\n",
    "    financial_data.writelines(f\"greatest increase in profit: {max_profit_change_date} (${max_profit_change})\\n\")\n",
    "    financial_data.writelines(f\"greatest decrease in profit: {min_profit_change_date} (${min_profit_change})\")"
   ]
  },
  {
   "cell_type": "code",
   "execution_count": null,
   "metadata": {},
   "outputs": [],
   "source": [
    "import os\n",
    "financial_analysis = os.path.join(\"..\", \"anaylsis\", \"financialanalysis.txt\")"
   ]
  },
  {
   "cell_type": "code",
   "execution_count": null,
   "metadata": {},
   "outputs": [],
   "source": [
    "with open(\"fiancial_analysis\", 'w') as financial_data:\n",
    "    financial_data.writelines(\"       Financial Analysis    \\n\")\n",
    "    financial_data.writelines(\"---------------------------\\n\")\n",
    "    financial_data.writelines(f\"total months: {row_count}\\n\")\n",
    "    financial_data.writelines(f\"total profit: ${total_profit}\\n\")\n",
    "    financial_data.writelines(f\"average change: ${float(avg_profit_change)}\\n\")\n",
    "    financial_data.writelines(f\"greatest increase in profit: {max_profit_change_date} (${max_profit_change})\\n\")\n",
    "    financial_data.writelines(f\"greatest decrease in profit: {min_profit_change_date} (${min_profit_change})\")"
   ]
  },
  {
   "cell_type": "code",
   "execution_count": null,
   "metadata": {},
   "outputs": [],
   "source": []
  }
 ],
 "metadata": {
  "kernelspec": {
   "display_name": "Python 3",
   "language": "python",
   "name": "python3"
  },
  "language_info": {
   "codemirror_mode": {
    "name": "ipython",
    "version": 3
   },
   "file_extension": ".py",
   "mimetype": "text/x-python",
   "name": "python",
   "nbconvert_exporter": "python",
   "pygments_lexer": "ipython3",
   "version": "3.7.6"
  }
 },
 "nbformat": 4,
 "nbformat_minor": 4
}
