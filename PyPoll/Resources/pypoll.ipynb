{
 "cells": [
  {
   "cell_type": "code",
   "execution_count": 58,
   "metadata": {},
   "outputs": [
    {
     "name": "stdout",
     "output_type": "stream",
     "text": [
      "Election Results\n",
      "--------------------\n",
      "total votes: 3521001\n",
      "---------------------\n",
      "O'Tooley % 6 ( 211260 )\n",
      "Khan % 126 ( 4436462 )\n",
      "Li % 28 ( 985880 )\n",
      "Correy % 40 ( 1408400 )\n",
      "---------------------\n",
      "winner: Khan\n"
     ]
    }
   ],
   "source": [
    "import csv\n",
    "import os\n",
    "\n",
    "path = \"election_data.csv\"\n",
    "\n",
    "with open(path, \"r\") as file:\n",
    "    csv_reader = csv.reader(file)\n",
    "    \n",
    "    print(\"Election Results\")\n",
    "    print(\"--------------------\")\n",
    "    \n",
    "    header = next(csv_reader)\n",
    "    \n",
    "    row_count = sum(1 for row in file)\n",
    "    print(\"total votes: \"+ str(row_count))\n",
    "    print(\"---------------------\") \n",
    "\n",
    "\n",
    "with open(path, \"r\") as file:\n",
    "    csv_reader = csv.reader(file)\n",
    "    \n",
    "    header = next(csv_reader)\n",
    "    \n",
    "    #candidate_list = []\n",
    "    for row in csv_reader:\n",
    "        candidate_list.append(row[2])\n",
    "        \n",
    "    #candidate_dict = {}\n",
    "    for row in set(candidate_list):\n",
    "        candidate_dict.update({row:0})\n",
    "        \n",
    "    for row in candidate_list:\n",
    "        candidate_dict[row] +=1\n",
    "\n",
    "\n",
    "for (key, value) in candidate_dict.items():\n",
    "    \n",
    "    percentage = candidate_dict[key] / (row_count)\n",
    "    print_percent = print(key,\"%\", round(percentage*100),\"(\",value,\")\")\n",
    "    \n",
    "\n",
    "print(\"---------------------\")\n",
    "\n",
    "for (key, value) in candidate_dict.items():\n",
    "  \n",
    "    max_key = max(candidate_dict, key=candidate_dict. get)\n",
    "\n",
    "    print(\"winner:\", max_key)\n",
    "    \n",
    "    break\n",
    "    \n",
    "election_results = os.path.join(\"..\", \"anaylsis\", \"electionresults.txt\")\n",
    "with open(\"electionresults\", 'w') as poll_data:\n",
    "    poll_data.writelines(\"       Election Results    \\n\")\n",
    "    poll_data.writelines(\"---------------------------\\n\")\n",
    "    poll_data.writelines(f\"total votes: {row_count}\\n\")\n",
    "    poll_data.writelines(\"---------------------------\\n\")\n",
    "    poll_data.writelines(f\"{key} % {round(percentage*100)} ({value}) \\n\")\n",
    "    poll_data.writelines(\"---------------------------\\n\")\n",
    "    poll_data.writelines(f\"winner: {max_key}\")"
   ]
  }
 ],
 "metadata": {
  "kernelspec": {
   "display_name": "Python 3",
   "language": "python",
   "name": "python3"
  },
  "language_info": {
   "codemirror_mode": {
    "name": "ipython",
    "version": 3
   },
   "file_extension": ".py",
   "mimetype": "text/x-python",
   "name": "python",
   "nbconvert_exporter": "python",
   "pygments_lexer": "ipython3",
   "version": "3.7.6"
  }
 },
 "nbformat": 4,
 "nbformat_minor": 4
}
